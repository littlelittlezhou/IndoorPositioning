{
 "cells": [
  {
   "cell_type": "code",
   "execution_count": 33,
   "metadata": {},
   "outputs": [],
   "source": [
    "from DivisionForP2 import Dataset\n",
    "import IPYNB_IMPORTER\n",
    "import Phase2\n",
    "from Phase_1_mymodel import area_data_processing,X_data_processing\n",
    "import numpy as np\n",
    "import keras\n",
    "from sklearn.utils import shuffle\n",
    "from sklearn.preprocessing import MinMaxScaler\n",
    "from keras.utils import to_categorical\n",
    "from keras.models import Sequential, load_model\n",
    "from keras.layers import Dense, Activation,Dropout,Conv2D,MaxPooling2D, Flatten\n",
    "from keras.optimizers import RMSprop,Nadam,Adam\n",
    "from sklearn.model_selection import train_test_split\n",
    "import pickle\n",
    "from sklearn import svm\n",
    "from pylab import *\n",
    "from matplotlib.font_manager import FontProperties  \n",
    "import matplotlib.pyplot as plt \n",
    "#支持中文\n",
    "mpl.rcParams['font.sans-serif'] = ['SimHei']\n"
   ]
  },
  {
   "cell_type": "code",
   "execution_count": 34,
   "metadata": {},
   "outputs": [],
   "source": [
    "# 获取数据文件\n",
    "y_test,X_test = Dataset(\"Test_1.csv\")\n",
    "y_train,X_train = Dataset(\"Train_1.csv\")\n",
    "y_test_path ,x_test_path = Dataset(\"test_path.csv\") #测试路径文件\n",
    "Y_temp = np.concatenate((y_train,y_test),axis=0)\n"
   ]
  },
  {
   "cell_type": "code",
   "execution_count": 35,
   "metadata": {},
   "outputs": [],
   "source": [
    "# 统一设计一系列使用各种模型进行一阶段预测的函数，使用model_*_pred命名。\n",
    "# 在main中设计一个统筹函数pred用于调取各类model_*_pred。\n",
    "# 这种函数会读取同名的model。使用相应的预测方法进行推算。\n",
    "# 输入是预测使用的测试集x。\n",
    "# 输出是一个区域标记。这个标记用于①对比标签得到准确度，②用于阶段二计算，再进行整体评估。\n",
    "\n",
    "#使用DNN模型进行区域定位\n",
    "def model_1_pred(x):\n",
    "    model_1 = load_model(\"./Phase_1/model_1.h5\")\n",
    "    y = model_1.predict_classes(x)\n",
    "    y = y+1\n",
    "    return y\n",
    "#使用CNN模型进行区域定位\n",
    "def model_2_pred(x):\n",
    "    model_2 = load_model(\"./Phase_1/model_2.h5\")\n",
    "    y = model_2.predict_classes(x)\n",
    "    y = y+1\n",
    "    return y"
   ]
  },
  {
   "cell_type": "code",
   "execution_count": 36,
   "metadata": {},
   "outputs": [],
   "source": [
    "# 一个用于推算位置的总函数，该函数需要接受一个字符串指代模型对象，规范为\"model_*\"\n",
    "# 输入：模型名和测试样本集\n",
    "# 输出：区域号、预测（x,y）\n",
    "def pred(modelname,X_test):\n",
    "    #phase1 区域定位\n",
    "    coodix = []\n",
    "    coodiy = []\n",
    "    model = {}\n",
    "    model[\"model_1\"] = model_1_pred\n",
    "    model[\"model_2\"] = model_2_pred # 模型2来自于文件phase_1_mymodel.ipynb\n",
    "    X_test[X_test==0] = -120   # 替换其中0标记位为最低rss，暂时取-120\n",
    "    normalize = MinMaxScaler()\n",
    "    normalize.fit(X_test)\n",
    "    X_test_org = normalize.transform(X_test)\n",
    "    if modelname == \"model_2\":#在model2中输入是形状为（22，22，1）的向量\n",
    "        zero_test = np.zeros((len(X_test_org),15),dtype=float) # 生成15个全零，用于扩充训练数据（469-》484=22*22）\n",
    "        X_test = np.concatenate((X_test_org,zero_test),axis=1) # 延长每个向量到22*22\n",
    "        X_test = X_test.reshape(len(X_test),22,22)\n",
    "        X_test = np.expand_dims(X_test,axis=3)\n",
    "        area = model[modelname](X_test)\n",
    "    else:\n",
    "        area = model[modelname](X_test_org)\n",
    "    #phase2 精准定位\n",
    "    pkl_file1 = open('./Data/vaploc_1.pkl', 'rb')\n",
    "    pkl_file2 = open('./Data/rss_1m_1.pkl', 'rb')\n",
    "    vaploc = pickle.load(pkl_file1)\n",
    "    rss_1m = pickle.load(pkl_file2)\n",
    "    for index,sample in enumerate(X_test_org):\n",
    "        x,y = Phase2.SampleLoc(sample,area[index],vaploc,rss_1m,2.24)        #这里的1.6之后需要换成最优解eta,已更新：2.24\n",
    "        print(\"数据集中第\",index,\"个样本:\",x,y)\n",
    "        coodix.append(x)\n",
    "        coodiy.append(y)\n",
    "    return area,coodix,coodiy"
   ]
  },
  {
   "cell_type": "code",
   "execution_count": 37,
   "metadata": {},
   "outputs": [],
   "source": [
    "# 一个用于将（area，coox，cooy）转换为一个总坐标（x,y）的函数\n",
    "# 为此需要记录每个区域自己的坐标系原点在总坐标的位置（x_area,y_area）\n",
    "# 通过该位置记录，区域内的点坐标（x1,y1）+坐标原点在总坐标的位置（x_area,y_area）\n",
    "# = 区域内点在总坐标系中的坐标（x,y）\n",
    "# (x,y) = (coox,cooy)+ (x_area,y_area)\n",
    "def projection(area,coox,cooy):\n",
    "    # proj_coo是area原点对应到总坐标的位置，通过地形图手算\n",
    "    proj_coo = {1:(0,-35),2:(0,-30),3:(0,-25),4:(0,-20),5:(0,-15),6:(0,-10),7:(0,-5),8:(0,0),9:(0,5),10:(0,10),11:(0,15),12:(0,20),13:(0,25),14:(0,30),15:(3,-5),16:(8,-5),17:(13,-5),18:(13,0),19:(8,0),20:(3,0),21:(-5,0),22:(-11,1),23:(-16,1),24:(-21,1),25:(-26,1),26:(-31,1),27:(-36,1),28:(-41,1),29:(-46,1),30:(-51,1),31:(-56,1),32:(-61,1)}\n",
    "    x = coox + proj_coo[area][0]\n",
    "    y = cooy + proj_coo[area][1]\n",
    "    return x,y"
   ]
  },
  {
   "cell_type": "code",
   "execution_count": 38,
   "metadata": {},
   "outputs": [],
   "source": [
    "def unique_rows(a):\n",
    "    #去掉数组重复的行\n",
    "    a = np.ascontiguousarray(a)\n",
    "    unique_a = np.unique(a.view([('', a.dtype)]*a.shape[1]))\n",
    "    return unique_a.view(a.dtype).reshape((unique_a.shape[0], a.shape[1]))"
   ]
  },
  {
   "cell_type": "code",
   "execution_count": null,
   "metadata": {},
   "outputs": [],
   "source": [
    "\n"
   ]
  },
  {
   "cell_type": "code",
   "execution_count": 39,
   "metadata": {},
   "outputs": [],
   "source": [
    "# 将所划分的区域进行构造\n",
    "def plt_coo(Y_temp):\n",
    "    coo_x = []\n",
    "    coo_y = []\n",
    "    colors = []\n",
    "    for index in range(len(Y_temp)):\n",
    "        coo_x_1,coo_y_1 = projection(Y_temp[index][0],Y_temp[index][1],Y_temp[index][2])\n",
    "        coo_x.append(coo_x_1)\n",
    "        coo_y.append(coo_y_1)\n",
    "        if Y_temp[index][0] % 2 ==0: #区域颜色区分\n",
    "            colors.append(\"b\")\n",
    "#             if Y_temp[index][0] == 2 or Y_temp[index][0] ==6 or Y_temp[index][0] ==4 or Y_temp[index][0] ==8 :\n",
    "#                 if Y_temp[index][1]!=1:\n",
    "#                     colors.append(\"b\")\n",
    "#                 else :\n",
    "#                     colors.append(\"c\")\n",
    "#             else:\n",
    "#                 if Y_temp[index][0]== 20 or Y_temp[index][0]==18:\n",
    "#                     if Y_temp[index][2]==4:\n",
    "#                         colors.append(\"b\")\n",
    "#                     else:\n",
    "#                         colors.append(\"c\")\n",
    "#                 else:\n",
    "#                     colors.append(\"c\")\n",
    "                    \n",
    "        else:\n",
    "            colors.append(\"g\")\n",
    "#             if Y_temp[index][0] ==1 or Y_temp[index][0] ==3 or Y_temp[index][0] ==5 or Y_temp[index][0] ==7:\n",
    "#                 if Y_temp[index][1]!=1:\n",
    "#                     colors.append(\"b\")\n",
    "#                 else:\n",
    "#                     colors.append(\"g\")\n",
    "#             else:\n",
    "#                 if Y_temp[index][0]== 19:\n",
    "#                     if Y_temp[index][2]==4:\n",
    "#                         colors.append(\"b\")\n",
    "#                     else:\n",
    "#                         colors.append(\"g\")\n",
    "#                 else:\n",
    "#                     colors.append(\"g\")\n",
    "\n",
    "    plt.scatter(coo_x, coo_y, s=0.5, c=colors)\n",
    "    plt.savefig(\"./Picture/project_coo.png\",dpi=120)\n",
    "    plt.show()\n",
    "        \n"
   ]
  },
  {
   "cell_type": "code",
   "execution_count": 40,
   "metadata": {},
   "outputs": [
    {
     "name": "stderr",
     "output_type": "stream",
     "text": [
      "D:\\Download\\packet\\work\\_Aconda\\_install\\envs\\tensorflow_gpu\\lib\\site-packages\\matplotlib\\backends\\backend_agg.py:240: RuntimeWarning: Glyph 8722 missing from current font.\n",
      "  font.set_text(s, 0.0, flags=flags)\n",
      "D:\\Download\\packet\\work\\_Aconda\\_install\\envs\\tensorflow_gpu\\lib\\site-packages\\matplotlib\\backends\\backend_agg.py:203: RuntimeWarning: Glyph 8722 missing from current font.\n",
      "  font.set_text(s, 0, flags=flags)\n"
     ]
    },
    {
     "data": {
      "image/png": "[encoded data removed]",
      "text/plain": [
       "<Figure size 432x288 with 1 Axes>"
      ]
     },
     "metadata": {
      "needs_background": "light"
     },
     "output_type": "display_data"
    }
   ],
   "source": [
    "Y_temp = unique_rows(Y_temp)\n",
    "plt_coo(Y_temp)"
   ]
  },
  {
   "cell_type": "code",
   "execution_count": 41,
   "metadata": {},
   "outputs": [],
   "source": [
    "# 将划分区域的图转化为总坐标，并用散点图标注\n",
    "def data_total_coor(Y_temp):\n",
    "    coo_x = []\n",
    "    coo_y = []\n",
    "    colors = []\n",
    "    for index in range(len(Y_temp)):\n",
    "        coo_x_1,coo_y_1 = projection(Y_temp[index][0],Y_temp[index][1],Y_temp[index][2])\n",
    "        coo_x.append(coo_x_1)\n",
    "        coo_y.append(coo_y_1)\n",
    "        if Y_temp[index][0] % 2 ==0: #区域颜色区分\n",
    "            if Y_temp[index][0] == 2 or Y_temp[index][0] ==6 or Y_temp[index][0] ==4 or Y_temp[index][0] ==8 :\n",
    "                if Y_temp[index][1]!=1:\n",
    "                    colors.append(\"b\")\n",
    "                else :\n",
    "                    colors.append(\"c\")\n",
    "            else:\n",
    "                if Y_temp[index][0]== 20 or Y_temp[index][0]==18:\n",
    "                    if Y_temp[index][2]==4:\n",
    "                        colors.append(\"b\")\n",
    "                    else:\n",
    "                        colors.append(\"c\")\n",
    "                else:\n",
    "                    colors.append(\"c\")\n",
    "                    \n",
    "        else:\n",
    "            if Y_temp[index][0] ==1 or Y_temp[index][0] ==3 or Y_temp[index][0] ==5 or Y_temp[index][0] ==7:\n",
    "                if Y_temp[index][1]!=1:\n",
    "                    colors.append(\"b\")\n",
    "                else:\n",
    "                    colors.append(\"g\")\n",
    "            else:\n",
    "                if Y_temp[index][0]== 19:\n",
    "                    if Y_temp[index][2]==4:\n",
    "                        colors.append(\"b\")\n",
    "                    else:\n",
    "                        colors.append(\"g\")\n",
    "                else:\n",
    "                    colors.append(\"g\")\n",
    "\n",
    "    return coo_x,coo_y,colors\n",
    "        \n"
   ]
  },
  {
   "cell_type": "code",
   "execution_count": 42,
   "metadata": {},
   "outputs": [],
   "source": [
    "\n",
    "\n",
    "# 一个用于评估模型效果的函数，他内部首先使用模型pred出area，coodix，coodiy\n",
    "# 随后对比这组数据和标准数据的距离\n",
    "# 输入：模型名、测试样本集、测试标签集\n",
    "# 输出：真实坐标与预测坐标的欧氏距离的平方、预测的（x,y）\n",
    "def assess(modelname,X_test,y_test):\n",
    "    pred_area,pred_x,pred_y = pred(modelname,X_test)\n",
    "    #区域准确度\n",
    "    area_true = y_test[:,0] #测试区域号的处理\n",
    "    area_true = area_data_processing(area_true)\n",
    "    area_true = np.argmax(area_true,axis=1)+1\n",
    "    coodix_test = y_test[:,1]#x,y坐标的处理\n",
    "    coodiy_test = y_test[:,2]\n",
    "    \n",
    "    judge = pred_area==area_true\n",
    "    ratio = np.sum(judge!=0)/len(area_true) #区域预测的正确率\n",
    "    print(\"Area correct ratio:\",ratio)\n",
    "    print(\"whether predict numbers = labels numbers\",len(pred_area)==len(area_true))\n",
    "    x_trues = []\n",
    "    y_trues = []\n",
    "    x_preds = []\n",
    "    y_preds = []\n",
    "    for i in range(len(area_true)):\n",
    "        print(area_true[i])\n",
    "        x_true,y_true = projection(area_true[i],coodix_test[i],coodiy_test[i])\n",
    "        x_trues.append(x_true)\n",
    "        y_trues.append(y_true)\n",
    "    for j in range(len(pred_area)):\n",
    "        x_pred,y_pred = projection(pred_area[j],pred_x[j],pred_y[j])\n",
    "        x_preds.append(x_pred)\n",
    "        y_preds.append(y_pred)\n",
    "    ds=[]\n",
    "    for k in range(len(area_true)):\n",
    "        d = Phase2.Distan(x_trues[k],y_trues[k],x_preds[k],y_preds[k])\n",
    "        ds.append(d)\n",
    "        if area_true[k]!= pred_area[k]:\n",
    "            print(\"area wrong:(ture,pred)=\",area_true[k],pred_area[k],\"in this case,d is:\",d)\n",
    "        else:\n",
    "            print(d)\n",
    "\n",
    "    return ds,x_preds,y_preds"
   ]
  },
  {
   "cell_type": "code",
   "execution_count": 43,
   "metadata": {},
   "outputs": [
    {
     "name": "stderr",
     "output_type": "stream",
     "text": [
      "D:\\Download\\packet\\work\\_Aconda\\_install\\envs\\tensorflow_gpu\\lib\\site-packages\\tensorflow\\python\\keras\\engine\\sequential.py:450: UserWarning: `model.predict_classes()` is deprecated and will be removed after 2021-01-01. Please use instead:* `np.argmax(model.predict(x), axis=-1)`,   if your model does multi-class classification   (e.g. if it uses a `softmax` last-layer activation).* `(model.predict(x) > 0.5).astype(\"int32\")`,   if your model does binary classification   (e.g. if it uses a `sigmoid` last-layer activation).\n",
      "  warnings.warn('`model.predict_classes()` is deprecated and '\n"
     ]
    },
    {
     "name": "stdout",
     "output_type": "stream",
     "text": [
      "数据集中第 0 个样本: 2.1461182920081767 2.22358214995805\n",
      "数据集中第 1 个样本: 2.785852261123167 1.4810467986197289\n",
      "数据集中第 2 个样本: 1.675114875706325 3.180037082765573\n",
      "数据集中第 3 个样本: 1.6696341930609593 2.639663425368898\n",
      "数据集中第 4 个样本: 2.5978874690341685 2.4951270861779777\n",
      "数据集中第 5 个样本: 2.1135807622369844 2.1396504892933574\n",
      "数据集中第 6 个样本: 2.5522533857046628 2.2415364164658556\n",
      "数据集中第 7 个样本: 2.5014767155498774 2.569341095543596\n",
      "数据集中第 8 个样本: 2.7985992208876613 2.002310286167906\n",
      "数据集中第 9 个样本: 1.4960174277176832 3.259527928024111\n",
      "数据集中第 10 个样本: 3.1339608211504832 1.4963034083139992\n",
      "数据集中第 11 个样本: 1.6179387896719954 2.997621898006011\n",
      "数据集中第 12 个样本: 2.4933128233205593 2.664739945872756\n",
      "数据集中第 13 个样本: 3.10430158045318 1.595535467295468\n",
      "数据集中第 14 个样本: 2.0516594574285834 2.3823185052385223\n",
      "数据集中第 15 个样本: 1.6174450989146634 2.926358878213951\n",
      "数据集中第 16 个样本: 2.6246989321717304 2.505461289843436\n",
      "数据集中第 17 个样本: 2.563844616718015 2.580175887167414\n",
      "数据集中第 18 个样本: 1.4751508632602777 3.0211972603966997\n",
      "数据集中第 19 个样本: 1.3835823905018283 2.7601899435249426\n",
      "数据集中第 20 个样本: 2.9441333674982877 1.349983087892392\n",
      "数据集中第 21 个样本: 2.9034683480150525 1.956216792867493\n",
      "数据集中第 22 个样本: 3.2639928315818185 1.2720359008421347\n"
     ]
    },
    {
     "ename": "KeyboardInterrupt",
     "evalue": "",
     "output_type": "error",
     "traceback": [
      "\u001b[1;31m---------------------------------------------------------------------------\u001b[0m",
      "\u001b[1;31mKeyboardInterrupt\u001b[0m                         Traceback (most recent call last)",
      "\u001b[1;32m<ipython-input-43-6b5d61b54027>\u001b[0m in \u001b[0;36m<module>\u001b[1;34m\u001b[0m\n\u001b[0;32m      1\u001b[0m \u001b[1;31m# 用模型1（DNN）进行预测\u001b[0m\u001b[1;33m\u001b[0m\u001b[1;33m\u001b[0m\u001b[1;33m\u001b[0m\u001b[0m\n\u001b[1;32m----> 2\u001b[1;33m \u001b[0mds\u001b[0m\u001b[1;33m,\u001b[0m\u001b[0mx_preds\u001b[0m\u001b[1;33m,\u001b[0m\u001b[0my_preds\u001b[0m \u001b[1;33m=\u001b[0m \u001b[0massess\u001b[0m\u001b[1;33m(\u001b[0m\u001b[1;34m\"model_1\"\u001b[0m\u001b[1;33m,\u001b[0m\u001b[0mX_test\u001b[0m\u001b[1;33m,\u001b[0m\u001b[0my_test\u001b[0m\u001b[1;33m)\u001b[0m\u001b[1;33m\u001b[0m\u001b[1;33m\u001b[0m\u001b[0m\n\u001b[0m",
      "\u001b[1;32m<ipython-input-42-3f8bd8a8dec1>\u001b[0m in \u001b[0;36massess\u001b[1;34m(modelname, X_test, y_test)\u001b[0m\n\u001b[0;32m      4\u001b[0m \u001b[1;31m# 输出：真实坐标与预测坐标的欧氏距离的平方、预测的（x,y）\u001b[0m\u001b[1;33m\u001b[0m\u001b[1;33m\u001b[0m\u001b[1;33m\u001b[0m\u001b[0m\n\u001b[0;32m      5\u001b[0m \u001b[1;32mdef\u001b[0m \u001b[0massess\u001b[0m\u001b[1;33m(\u001b[0m\u001b[0mmodelname\u001b[0m\u001b[1;33m,\u001b[0m\u001b[0mX_test\u001b[0m\u001b[1;33m,\u001b[0m\u001b[0my_test\u001b[0m\u001b[1;33m)\u001b[0m\u001b[1;33m:\u001b[0m\u001b[1;33m\u001b[0m\u001b[1;33m\u001b[0m\u001b[0m\n\u001b[1;32m----> 6\u001b[1;33m     \u001b[0mpred_area\u001b[0m\u001b[1;33m,\u001b[0m\u001b[0mpred_x\u001b[0m\u001b[1;33m,\u001b[0m\u001b[0mpred_y\u001b[0m \u001b[1;33m=\u001b[0m \u001b[0mpred\u001b[0m\u001b[1;33m(\u001b[0m\u001b[0mmodelname\u001b[0m\u001b[1;33m,\u001b[0m\u001b[0mX_test\u001b[0m\u001b[1;33m)\u001b[0m\u001b[1;33m\u001b[0m\u001b[1;33m\u001b[0m\u001b[0m\n\u001b[0m\u001b[0;32m      7\u001b[0m     \u001b[1;31m#区域准确度\u001b[0m\u001b[1;33m\u001b[0m\u001b[1;33m\u001b[0m\u001b[1;33m\u001b[0m\u001b[0m\n\u001b[0;32m      8\u001b[0m     \u001b[0marea_true\u001b[0m \u001b[1;33m=\u001b[0m \u001b[0my_test\u001b[0m\u001b[1;33m[\u001b[0m\u001b[1;33m:\u001b[0m\u001b[1;33m,\u001b[0m\u001b[1;36m0\u001b[0m\u001b[1;33m]\u001b[0m \u001b[1;31m#测试区域号的处理\u001b[0m\u001b[1;33m\u001b[0m\u001b[1;33m\u001b[0m\u001b[0m\n",
      "\u001b[1;32m<ipython-input-36-f7a7f82584f7>\u001b[0m in \u001b[0;36mpred\u001b[1;34m(modelname, X_test)\u001b[0m\n\u001b[0;32m     27\u001b[0m     \u001b[0mrss_1m\u001b[0m \u001b[1;33m=\u001b[0m \u001b[0mpickle\u001b[0m\u001b[1;33m.\u001b[0m\u001b[0mload\u001b[0m\u001b[1;33m(\u001b[0m\u001b[0mpkl_file2\u001b[0m\u001b[1;33m)\u001b[0m\u001b[1;33m\u001b[0m\u001b[1;33m\u001b[0m\u001b[0m\n\u001b[0;32m     28\u001b[0m     \u001b[1;32mfor\u001b[0m \u001b[0mindex\u001b[0m\u001b[1;33m,\u001b[0m\u001b[0msample\u001b[0m \u001b[1;32min\u001b[0m \u001b[0menumerate\u001b[0m\u001b[1;33m(\u001b[0m\u001b[0mX_test_org\u001b[0m\u001b[1;33m)\u001b[0m\u001b[1;33m:\u001b[0m\u001b[1;33m\u001b[0m\u001b[1;33m\u001b[0m\u001b[0m\n\u001b[1;32m---> 29\u001b[1;33m         \u001b[0mx\u001b[0m\u001b[1;33m,\u001b[0m\u001b[0my\u001b[0m \u001b[1;33m=\u001b[0m \u001b[0mPhase2\u001b[0m\u001b[1;33m.\u001b[0m\u001b[0mSampleLoc\u001b[0m\u001b[1;33m(\u001b[0m\u001b[0msample\u001b[0m\u001b[1;33m,\u001b[0m\u001b[0marea\u001b[0m\u001b[1;33m[\u001b[0m\u001b[0mindex\u001b[0m\u001b[1;33m]\u001b[0m\u001b[1;33m,\u001b[0m\u001b[0mvaploc\u001b[0m\u001b[1;33m,\u001b[0m\u001b[0mrss_1m\u001b[0m\u001b[1;33m,\u001b[0m\u001b[1;36m2.24\u001b[0m\u001b[1;33m)\u001b[0m        \u001b[1;31m#这里的1.6之后需要换成最优解eta,已更新：2.24\u001b[0m\u001b[1;33m\u001b[0m\u001b[1;33m\u001b[0m\u001b[0m\n\u001b[0m\u001b[0;32m     30\u001b[0m         \u001b[0mprint\u001b[0m\u001b[1;33m(\u001b[0m\u001b[1;34m\"数据集中第\"\u001b[0m\u001b[1;33m,\u001b[0m\u001b[0mindex\u001b[0m\u001b[1;33m,\u001b[0m\u001b[1;34m\"个样本:\"\u001b[0m\u001b[1;33m,\u001b[0m\u001b[0mx\u001b[0m\u001b[1;33m,\u001b[0m\u001b[0my\u001b[0m\u001b[1;33m)\u001b[0m\u001b[1;33m\u001b[0m\u001b[1;33m\u001b[0m\u001b[0m\n\u001b[0;32m     31\u001b[0m         \u001b[0mcoodix\u001b[0m\u001b[1;33m.\u001b[0m\u001b[0mappend\u001b[0m\u001b[1;33m(\u001b[0m\u001b[0mx\u001b[0m\u001b[1;33m)\u001b[0m\u001b[1;33m\u001b[0m\u001b[1;33m\u001b[0m\u001b[0m\n",
      "\u001b[1;32m~\\_动手实操程序\\RSSI\\Phase2.ipynb\u001b[0m in \u001b[0;36mSampleLoc\u001b[1;34m(sample_x, area, vaploc, rss_1m, eta)\u001b[0m\n",
      "\u001b[1;32mD:\\Download\\packet\\work\\_Aconda\\_install\\envs\\tensorflow_gpu\\lib\\site-packages\\scipy\\optimize\\_minimize.py\u001b[0m in \u001b[0;36mminimize\u001b[1;34m(fun, x0, args, method, jac, hess, hessp, bounds, constraints, tol, callback, options)\u001b[0m\n\u001b[0;32m    606\u001b[0m \u001b[1;33m\u001b[0m\u001b[0m\n\u001b[0;32m    607\u001b[0m     \u001b[1;32mif\u001b[0m \u001b[0mmeth\u001b[0m \u001b[1;33m==\u001b[0m \u001b[1;34m'nelder-mead'\u001b[0m\u001b[1;33m:\u001b[0m\u001b[1;33m\u001b[0m\u001b[1;33m\u001b[0m\u001b[0m\n\u001b[1;32m--> 608\u001b[1;33m         \u001b[1;32mreturn\u001b[0m \u001b[0m_minimize_neldermead\u001b[0m\u001b[1;33m(\u001b[0m\u001b[0mfun\u001b[0m\u001b[1;33m,\u001b[0m \u001b[0mx0\u001b[0m\u001b[1;33m,\u001b[0m \u001b[0margs\u001b[0m\u001b[1;33m,\u001b[0m \u001b[0mcallback\u001b[0m\u001b[1;33m,\u001b[0m \u001b[1;33m**\u001b[0m\u001b[0moptions\u001b[0m\u001b[1;33m)\u001b[0m\u001b[1;33m\u001b[0m\u001b[1;33m\u001b[0m\u001b[0m\n\u001b[0m\u001b[0;32m    609\u001b[0m     \u001b[1;32melif\u001b[0m \u001b[0mmeth\u001b[0m \u001b[1;33m==\u001b[0m \u001b[1;34m'powell'\u001b[0m\u001b[1;33m:\u001b[0m\u001b[1;33m\u001b[0m\u001b[1;33m\u001b[0m\u001b[0m\n\u001b[0;32m    610\u001b[0m         \u001b[1;32mreturn\u001b[0m \u001b[0m_minimize_powell\u001b[0m\u001b[1;33m(\u001b[0m\u001b[0mfun\u001b[0m\u001b[1;33m,\u001b[0m \u001b[0mx0\u001b[0m\u001b[1;33m,\u001b[0m \u001b[0margs\u001b[0m\u001b[1;33m,\u001b[0m \u001b[0mcallback\u001b[0m\u001b[1;33m,\u001b[0m \u001b[0mbounds\u001b[0m\u001b[1;33m,\u001b[0m \u001b[1;33m**\u001b[0m\u001b[0moptions\u001b[0m\u001b[1;33m)\u001b[0m\u001b[1;33m\u001b[0m\u001b[1;33m\u001b[0m\u001b[0m\n",
      "\u001b[1;32mD:\\Download\\packet\\work\\_Aconda\\_install\\envs\\tensorflow_gpu\\lib\\site-packages\\scipy\\optimize\\optimize.py\u001b[0m in \u001b[0;36m_minimize_neldermead\u001b[1;34m(func, x0, args, callback, maxiter, maxfev, disp, return_all, initial_simplex, xatol, fatol, adaptive, **unknown_options)\u001b[0m\n\u001b[0;32m    768\u001b[0m                     \u001b[1;31m# Perform an inside contraction\u001b[0m\u001b[1;33m\u001b[0m\u001b[1;33m\u001b[0m\u001b[1;33m\u001b[0m\u001b[0m\n\u001b[0;32m    769\u001b[0m                     \u001b[0mxcc\u001b[0m \u001b[1;33m=\u001b[0m \u001b[1;33m(\u001b[0m\u001b[1;36m1\u001b[0m \u001b[1;33m-\u001b[0m \u001b[0mpsi\u001b[0m\u001b[1;33m)\u001b[0m \u001b[1;33m*\u001b[0m \u001b[0mxbar\u001b[0m \u001b[1;33m+\u001b[0m \u001b[0mpsi\u001b[0m \u001b[1;33m*\u001b[0m \u001b[0msim\u001b[0m\u001b[1;33m[\u001b[0m\u001b[1;33m-\u001b[0m\u001b[1;36m1\u001b[0m\u001b[1;33m]\u001b[0m\u001b[1;33m\u001b[0m\u001b[1;33m\u001b[0m\u001b[0m\n\u001b[1;32m--> 770\u001b[1;33m                     \u001b[0mfxcc\u001b[0m \u001b[1;33m=\u001b[0m \u001b[0mfunc\u001b[0m\u001b[1;33m(\u001b[0m\u001b[0mxcc\u001b[0m\u001b[1;33m)\u001b[0m\u001b[1;33m\u001b[0m\u001b[1;33m\u001b[0m\u001b[0m\n\u001b[0m\u001b[0;32m    771\u001b[0m \u001b[1;33m\u001b[0m\u001b[0m\n\u001b[0;32m    772\u001b[0m                     \u001b[1;32mif\u001b[0m \u001b[0mfxcc\u001b[0m \u001b[1;33m<\u001b[0m \u001b[0mfsim\u001b[0m\u001b[1;33m[\u001b[0m\u001b[1;33m-\u001b[0m\u001b[1;36m1\u001b[0m\u001b[1;33m]\u001b[0m\u001b[1;33m:\u001b[0m\u001b[1;33m\u001b[0m\u001b[1;33m\u001b[0m\u001b[0m\n",
      "\u001b[1;32mD:\\Download\\packet\\work\\_Aconda\\_install\\envs\\tensorflow_gpu\\lib\\site-packages\\scipy\\optimize\\optimize.py\u001b[0m in \u001b[0;36mfunction_wrapper\u001b[1;34m(*wrapper_args)\u001b[0m\n\u001b[0;32m    459\u001b[0m     \u001b[1;32mdef\u001b[0m \u001b[0mfunction_wrapper\u001b[0m\u001b[1;33m(\u001b[0m\u001b[1;33m*\u001b[0m\u001b[0mwrapper_args\u001b[0m\u001b[1;33m)\u001b[0m\u001b[1;33m:\u001b[0m\u001b[1;33m\u001b[0m\u001b[1;33m\u001b[0m\u001b[0m\n\u001b[0;32m    460\u001b[0m         \u001b[0mncalls\u001b[0m\u001b[1;33m[\u001b[0m\u001b[1;36m0\u001b[0m\u001b[1;33m]\u001b[0m \u001b[1;33m+=\u001b[0m \u001b[1;36m1\u001b[0m\u001b[1;33m\u001b[0m\u001b[1;33m\u001b[0m\u001b[0m\n\u001b[1;32m--> 461\u001b[1;33m         \u001b[1;32mreturn\u001b[0m \u001b[0mfunction\u001b[0m\u001b[1;33m(\u001b[0m\u001b[1;33m*\u001b[0m\u001b[1;33m(\u001b[0m\u001b[0mwrapper_args\u001b[0m \u001b[1;33m+\u001b[0m \u001b[0margs\u001b[0m\u001b[1;33m)\u001b[0m\u001b[1;33m)\u001b[0m\u001b[1;33m\u001b[0m\u001b[1;33m\u001b[0m\u001b[0m\n\u001b[0m\u001b[0;32m    462\u001b[0m \u001b[1;33m\u001b[0m\u001b[0m\n\u001b[0;32m    463\u001b[0m     \u001b[1;32mreturn\u001b[0m \u001b[0mncalls\u001b[0m\u001b[1;33m,\u001b[0m \u001b[0mfunction_wrapper\u001b[0m\u001b[1;33m\u001b[0m\u001b[1;33m\u001b[0m\u001b[0m\n",
      "\u001b[1;32m~\\_动手实操程序\\RSSI\\Phase2.ipynb\u001b[0m in \u001b[0;36mfun\u001b[1;34m(xy, sumlogs, args)\u001b[0m\n",
      "\u001b[1;31mKeyboardInterrupt\u001b[0m: "
     ]
    }
   ],
   "source": [
    "# 用模型1（DNN）进行预测\n",
    "ds,x_preds,y_preds = assess(\"model_1\",X_test,y_test)"
   ]
  },
  {
   "cell_type": "code",
   "execution_count": null,
   "metadata": {},
   "outputs": [],
   "source": [
    "# 用模型2（CNN）进行预测\n",
    "ds_2,x_preds_2,y_preds_2 = assess(\"model_2\",X_test,y_test)"
   ]
  },
  {
   "cell_type": "code",
   "execution_count": null,
   "metadata": {},
   "outputs": [],
   "source": [
    "coo_x,coo_y,colors = data_total_coor(Y_temp)\n",
    "plt.scatter(coo_x, coo_y, s=0.5, c=colors)\n",
    "plt.scatter(x_preds,y_preds,s=0.5,c=\"y\",label='pred_model1')\n",
    "plt.scatter(x_preds_2,y_preds_2,s=0.5,c=\"r\",label=\"pred_model2\")\n",
    "plt.savefig(\"./Picture/pred_path.png\",dpi=120)\n",
    "plt.show()"
   ]
  },
  {
   "cell_type": "code",
   "execution_count": null,
   "metadata": {
    "scrolled": false
   },
   "outputs": [],
   "source": [
    "\n",
    "print(\"model1_平均误差：\\n\",np.mean(ds)*0.6)\n",
    "print(\"model1_最小误差：\\n\",np.min(ds)*0.6)\n",
    "print(\"model1_最大误差：\\n\",np.max(ds)*0.6)\n",
    "\n",
    "print(\"model2_平均误差：\\n\",np.mean(ds_2)*0.6)\n",
    "print(\"model2_最小误差：\\n\",np.min(ds_2)*0.6)\n",
    "print(\"model2_最大误差：\\n\",np.max(ds_2)*0.6)\n",
    "\n",
    "#绘制MSE\n",
    "suma_1 = 0\n",
    "suma_2 = 0\n",
    "MSE_1 = []\n",
    "MSE_2 = []\n",
    "\n",
    "for j in range(len(ds)):#求均方误差\n",
    "    for i in range(j+1):\n",
    "        suma_1 += ds[i]*0.6\n",
    "        suma_2 += ds_2[i]*0.6\n",
    "    MSE_1.append(suma_1/(j+1))\n",
    "    MSE_2.append(suma_2/(j+1))\n",
    "    suma_1 = 0\n",
    "    suma_2 = 0\n",
    "l=len(MSE_1)+1\n",
    "x=np.arange(1,l)\n",
    "plt.title(\"均方误差MSE图\")\n",
    "plt.xlabel('样本个数')\n",
    "plt.ylabel('误差值')\n",
    "plt.plot(x,MSE_1,label=\"DNN\")\n",
    "plt.plot(x,MSE_2,label=\"CNN\")\n",
    "plt.legend()\n",
    "plt.savefig(\"./Picture/MSE.png\",dpi=120)\n",
    "plt.show()\n",
    "\n",
    "\n",
    "#绘制CDF\n",
    "x_cdf = np.arange(0,5,0.1) #产生0.0-5.0的数组\n",
    "y_1_cdf = []\n",
    "y_2_cdf = []\n",
    "for i in x_cdf:\n",
    "    c=np.sum(ds<=i)\n",
    "    c_2=np.sum(ds_2<=i)\n",
    "    y_1_cdf.append(c/len(ds))\n",
    "    y_2_cdf.append(c_2/len(ds))\n",
    "plt.title(\"累计分布函数CDF图\")\n",
    "plt.xlabel('误差值')\n",
    "plt.ylabel('概率')\n",
    "plt.plot(x_cdf,y_1_cdf,label=\"DNN\")\n",
    "plt.plot(x_cdf,y_2_cdf,label=\"CNN\")\n",
    "plt.legend()\n",
    "plt.savefig(\"./Picture/CDF.png\",dpi=120)\n",
    "plt.show()"
   ]
  },
  {
   "cell_type": "code",
   "execution_count": null,
   "metadata": {},
   "outputs": [],
   "source": [
    "#预测路径\n",
    "# ds_path,x_preds_path,y_preds_path = assess(\"model_1\",X_test_path,y_test_path)\n"
   ]
  },
  {
   "cell_type": "code",
   "execution_count": null,
   "metadata": {
    "scrolled": true
   },
   "outputs": [],
   "source": [
    "#绘制路径对比图\n",
    "# coo_x,coo_y,colors = data_total_coor(Y_temp)\n",
    "# plt.scatter(coo_x, coo_y, s=0.5, c=colors)\n",
    "# plt.scatter(x_preds_path,y_preds_path,s=0.5,c=\"y\",label='pred_path')\n",
    "# plt.savefig(\"./pred_path.png\",dpi=120)\n",
    "# plt.show()\n",
    "# plt.scatter(coo_x, coo_y, s=0.5, c=colors)"
   ]
  },
  {
   "cell_type": "code",
   "execution_count": null,
   "metadata": {},
   "outputs": [],
   "source": []
  }
 ],
 "metadata": {
  "kernelspec": {
   "display_name": "Python 3",
   "language": "python",
   "name": "python3"
  },
  "language_info": {
   "codemirror_mode": {
    "name": "ipython",
    "version": 3
   },
   "file_extension": ".py",
   "mimetype": "text/x-python",
   "name": "python",
   "nbconvert_exporter": "python",
   "pygments_lexer": "ipython3",
   "version": "3.8.8"
  }
 },
 "nbformat": 4,
 "nbformat_minor": 2
}
