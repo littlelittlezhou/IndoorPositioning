{
 "cells": [
  {
   "cell_type": "code",
   "execution_count": 2,
   "metadata": {},
   "outputs": [],
   "source": [
    "import csv\n",
    "from collections import Counter\n",
    "import numpy as np\n",
    "from sklearn.model_selection import train_test_split\n",
    "from DivisionForP2 import Dataset\n",
    "from sklearn.utils import shuffle"
   ]
  },
  {
   "cell_type": "code",
   "execution_count": 3,
   "metadata": {},
   "outputs": [],
   "source": [
    "with open(\"./Data/Train_1.csv\",'w',encoding='iso-8859-1',newline='') as out1,\\\n",
    "open(\"./Data/Test_1.csv\",'w',encoding='iso-8859-1',newline='') as out2:\n",
    "    wt1 = csv.writer(out1)\n",
    "    wt2 = csv.writer(out2)\n",
    "    \n",
    "    labels,samples = Dataset(\"Vec_Del_dataset_1.csv\")\n",
    "    x,y = shuffle(samples,labels)   # 打乱数据\n",
    "    X_train,X_test,y_train,y_test = train_test_split(x,y,test_size=0.2)\n",
    "    for i in range(len(X_train)):\n",
    "        wt1.writerow(list(y_train[i])+list(X_train[i]))\n",
    "    for j in range(len(X_test)):\n",
    "        wt2.writerow(list(y_test[j])+list(X_test[j]))"
   ]
  },
  {
   "cell_type": "code",
   "execution_count": 4,
   "metadata": {},
   "outputs": [],
   "source": [
    "# with open(\"./Data/ordered_Train_1.csv\",'w',encoding='iso-8859-1',newline='') as out1,\\\n",
    "# open(\"./Data/ordered_Test_1.csv\",'w',encoding='iso-8859-1',newline='') as out2:\n",
    "#     wt1 = csv.writer(out1)\n",
    "#     wt2 = csv.writer(out2)\n",
    "    \n",
    "#     labels,samples = Dataset(\"Vec_ordered_Del_dataset_1.csv\")\n",
    "#     x,y = shuffle(samples,labels)   # 打乱数据\n",
    "#     X_train,X_test,y_train,y_test = train_test_split(x,y,test_size=0.2)\n",
    "#     for i in range(len(X_train)):\n",
    "#         wt1.writerow(list(y_train[i])+list(X_train[i]))\n",
    "#     for j in range(len(X_test)):\n",
    "#         wt2.writerow(list(y_test[j])+list(X_test[j]))"
   ]
  }
 ],
 "metadata": {
  "kernelspec": {
   "display_name": "Python 3",
   "language": "python",
   "name": "python3"
  },
  "language_info": {
   "codemirror_mode": {
    "name": "ipython",
    "version": 3
   },
   "file_extension": ".py",
   "mimetype": "text/x-python",
   "name": "python",
   "nbconvert_exporter": "python",
   "pygments_lexer": "ipython3",
   "version": "3.8.8"
  }
 },
 "nbformat": 4,
 "nbformat_minor": 2
}
