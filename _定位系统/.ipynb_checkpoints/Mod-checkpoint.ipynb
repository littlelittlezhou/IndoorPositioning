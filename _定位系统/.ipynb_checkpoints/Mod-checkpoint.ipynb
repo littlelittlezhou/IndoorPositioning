{
 "cells": [
  {
   "cell_type": "code",
   "execution_count": 76,
   "metadata": {},
   "outputs": [],
   "source": [
    "import csv\n",
    "from collections import Counter\n",
    "import numpy as np"
   ]
  },
  {
   "cell_type": "code",
   "execution_count": 2,
   "metadata": {},
   "outputs": [],
   "source": [
    "#这个函数用语删除部分出现问题的行\n",
    "#输入为文件名，默认放在/Data中\n",
    "#输出为文件，前缀加上Del_\n",
    "#该输出文件的含义是，初步去除无效行的数据集\n",
    "#主要实现了删除读不到rssi的行。这些行可能由于AP名称中有中文导致采集时乱码所致\n",
    "def DeleteErrorRow(FileName):\n",
    "    with open(\"./Data/\"+FileName,'r',encoding='iso-8859-1') as inp,\\\n",
    "    open(\"./Data/Del_\"+FileName,'w',encoding='iso-8859-1',newline='') as out:\n",
    "        rd = csv.reader(inp)\n",
    "        wt = csv.writer(out)\n",
    "        for row in rd:\n",
    "            if row[8] != '':    # 如果RSSI为空，这可能是由于采集时出现了乱码\n",
    "                print(row)\n",
    "                wt.writerow(row)"
   ]
  },
  {
   "cell_type": "code",
   "execution_count": 40,
   "metadata": {
    "scrolled": true
   },
   "outputs": [],
   "source": [
    "#这个函数用于统计数据集中AP的个数\n",
    "#输入为文件名，默认在/Data中\n",
    "#输出为文件，前缀加上ApList_\n",
    "#该输出文件的含义是，数据集文件中出现的所有AP，及其次数统计\n",
    "def ApList(FileName):\n",
    "    ListAll = []\n",
    "    with open(\"./Data/\"+FileName,'r',encoding='iso-8859-1') as inp,\\\n",
    "    open(\"./Data/ApList_\"+FileName,'w',encoding='iso-8859-1',newline='') as out:\n",
    "        rd = csv.reader(inp)\n",
    "        wt = csv.writer(out)\n",
    "        for row in rd:\n",
    "            ListAll.append(row[7])  # 记录所有条目的Mac地址\n",
    "        aplist = Counter(ListAll)   # 挑出不同的Mac并计数每个Mac出现的次数\n",
    "        # 调试记录，数据集1共有521条AP；2共有681条\n",
    "        for ap in aplist.items():\n",
    "            print(ap)\n",
    "            wt.writerow(ap)"
   ]
  },
  {
   "cell_type": "code",
   "execution_count": 68,
   "metadata": {},
   "outputs": [],
   "source": [
    "#这个函数用于求得两个数据集中共同出现的AP\n",
    "#输入是两个数据集的APlist文件名，这个文件由Aplist函数求得\n",
    "#输出是一个文件，命名后缀带All\n",
    "#文件内容是，两个数据集中共同出现的AP，及其在0，1两个数据集中出现的次数\n",
    "def Intersection(List0,List1):\n",
    "    aplist0 = []  # 记录数据集0的aplist\n",
    "    count0 = []\n",
    "    aplist1 = []  # 记录数据集1的aplist\n",
    "    count1 = []\n",
    "    aplist = []   #需要输出的交集结果列表\n",
    "    with open(\"./Data/\"+List0,'r',encoding='iso-8859-1') as inp0,\\\n",
    "    open(\"./Data/\"+List1,'r',encoding='iso-8859-1') as inp1,\\\n",
    "    open(\"./Data/Aplist_Del_All.csv\",'w',encoding='iso-8859-1',newline='')as out:\n",
    "        rd1 = csv.reader(inp0)\n",
    "        rd2 = csv.reader(inp1)\n",
    "        wt = csv.writer(out)\n",
    "        for row in rd1:\n",
    "            ap,count = row\n",
    "            aplist0.append(ap)    # 记录数据集0的aplist\n",
    "            count0.append(count)\n",
    "        for row in rd2:              \n",
    "            ap,count = row\n",
    "            aplist1.append(ap)    # 记录数据集0的aplist\n",
    "            count1.append(count)    # 记录数据集1的aplist\n",
    "        aplist = list(set(aplist0).intersection(aplist1))   # 转到set类型求交集后返回list\n",
    "        for ap in aplist:\n",
    "            row = [ap,count0[aplist0.index(ap)],count1[aplist1.index(ap)]]\n",
    "            wt.writerow(row)     "
   ]
  },
  {
   "cell_type": "code",
   "execution_count": 104,
   "metadata": {},
   "outputs": [],
   "source": [
    "#这个函数用于将每行一个ap的数据格式转储为一样一个样本的样式\n",
    "#输入需要一个AP的列表，用于取得向量各位的排布顺序\n",
    "#输入需要数据集本身\n",
    "#输出为一个文件，该文件即是转换后的dataset，前缀Vec_标记\n",
    "#数据格式：区域号，x，y，样本（[0,0,0,-52,0,-55...]）\n",
    "def Vectorize(Aplist,Dataset):\n",
    "    aps = []   # 用于存放读出来的AP列表\n",
    "    with open(\"./Data/\"+Aplist,'r',encoding='iso-8859-1') as aplist,\\\n",
    "    open(\"./Data/\"+Dataset,'r',encoding='iso-8859-1') as dataset,\\\n",
    "    open(\"./Data/Vec_\"+Dataset,'w',encoding='iso-8859-1',newline='') as out:\n",
    "        rdap = csv.reader(aplist)\n",
    "        rddat = csv.reader(dataset)\n",
    "        wt = csv.writer(out)\n",
    "        for row in rdap:\n",
    "            aps.append(row[0])    # 读取ap列表\n",
    "        vect = ['0']*len(aps)     # 创建向量，长度为ap列表\n",
    "        num = None                  # 记录样本号的变量\n",
    "        area,x,y = None,None,None  # 记录区域，x，y\n",
    "        for row in rddat:\n",
    "            if num == None:\n",
    "                num = row[0]          # 样本号变为第一个row[0]\n",
    "            if row[7] not in aps:\n",
    "                continue\n",
    "            if row[0] == num:         # 如果该行和上一行同时属于一个样本\n",
    "                index = aps.index(row[7])\n",
    "                vect[index] = row[8]    # 填入vector中相应位置的rssi\n",
    "                area,x,y = row[1],row[2],row[3]  # 更新area，x，y\n",
    "            else:    #如果进入下一个样本\n",
    "                wt.writerow([area,x,y]+vect)   # 更新一行样本\n",
    "                vect = ['0']*len(aps)    # 清空vect\n",
    "                num = row[0]       # 更新样本号\n",
    "                index = aps.index(row[7])   # 获取索引\n",
    "                vect[index] = row[8]     # 填入一个rssi\n",
    "                area,x,y = row[1],row[2],row[3]  # 更新area，x，y \n",
    "                "
   ]
  },
  {
   "cell_type": "code",
   "execution_count": 106,
   "metadata": {},
   "outputs": [],
   "source": []
  },
  {
   "cell_type": "code",
   "execution_count": null,
   "metadata": {},
   "outputs": [],
   "source": []
  }
 ],
 "metadata": {
  "kernelspec": {
   "display_name": "Python 3",
   "language": "python",
   "name": "python3"
  },
  "language_info": {
   "codemirror_mode": {
    "name": "ipython",
    "version": 3
   },
   "file_extension": ".py",
   "mimetype": "text/x-python",
   "name": "python",
   "nbconvert_exporter": "python",
   "pygments_lexer": "ipython3",
   "version": "3.7.3"
  }
 },
 "nbformat": 4,
 "nbformat_minor": 2
}
