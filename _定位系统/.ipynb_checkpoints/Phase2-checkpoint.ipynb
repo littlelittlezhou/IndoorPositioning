{
 "cells": [
  {
   "cell_type": "code",
   "execution_count": 1,
   "metadata": {},
   "outputs": [],
   "source": [
    "import numpy as np\n",
    "import csv\n",
    "from DivisionForP2 import DivisionP2\n",
    "from collections import Counter\n",
    "from itertools import combinations\n",
    "from scipy.optimize import minimize\n",
    "from matplotlib import pyplot as plt\n",
    "import matplotlib\n",
    "import pickle\n",
    "from DivisionForP2 import Dataset"
   ]
  },
  {
   "cell_type": "code",
   "execution_count": null,
   "metadata": {},
   "outputs": [],
   "source": []
  },
  {
   "cell_type": "code",
   "execution_count": null,
   "metadata": {},
   "outputs": [],
   "source": []
  },
  {
   "cell_type": "code",
   "execution_count": 2,
   "metadata": {},
   "outputs": [],
   "source": [
    "#用于将数据集（格式为x，y两个numpy数组）拆分为按区域集中的数据样本\n",
    "#输入为x，y两个数组，等长，且一一对应\n",
    "#返回值为两个字典，字典的键为area，值为numpy数组，x字典为numpy数组shape是（样本数，AP列表）\n",
    "#对应的，y字典值为数组，shape为（样本数，3）。3分别是，区域，横坐标，纵坐标\n",
    "def DivByArea(train_x,train_y):\n",
    "    x_div_by_area = {} # 是一个字典，键为area，值为样本集的一个子集\n",
    "    y_div_by_area = {} # 是一个字典，键为area，值为标签集的一个子集\n",
    "    dic = {}    # dic 是一个字典，键为area，值为该area的样本在输入集中的位置索引列表\n",
    "    index = []   # 暂时存放位置索引列表\n",
    "    count = Counter(train_y[:,0]) # counter得到可能的区域和该区域的样本数\n",
    "    # 虽然本项目中area个数和点数几乎是确定的，但由Counter计算可能更具有普适性\n",
    "    areas,samples = list(count.keys()),list(count.values())   # 取出区域及其对应的样本数\n",
    "    for area in areas:\n",
    "        for num in range(len(train_y)):\n",
    "            if train_y[num,0] == area:\n",
    "                index.append(num)\n",
    "        dic[area] = index\n",
    "        index = []\n",
    "    for area in dic.keys():\n",
    "        x_div_by_area[area] = train_x[dic[area]]\n",
    "        y_div_by_area[area] = train_y[dic[area]]\n",
    "    return x_div_by_area,y_div_by_area"
   ]
  },
  {
   "cell_type": "code",
   "execution_count": null,
   "metadata": {},
   "outputs": [],
   "source": []
  },
  {
   "cell_type": "code",
   "execution_count": 3,
   "metadata": {},
   "outputs": [],
   "source": [
    "#方法用于求得距离比R\n",
    "#输入为两数字，为RSSI\n",
    "#输出为距离比R\n",
    "def DistRatio(Rssi1,Rssi2,eta):\n",
    "    R = 10**((Rssi2-Rssi1)/(10*eta))\n",
    "    return R"
   ]
  },
  {
   "cell_type": "code",
   "execution_count": 4,
   "metadata": {},
   "outputs": [],
   "source": [
    "#方法用于求出阿氏圆\n",
    "#先前化简后将该圆表达式整合为了一般式\n",
    "# x^2+y^2+Dx+Ey+F=0\n",
    "#故而只需要求出D，E，F即可\n",
    "#根据推导可以直接计算\n",
    "#输入为AB两点的坐标，和距离比R，该比值由RSSI算出\n",
    "#输出为D,E,F\n",
    "def Apollonius(xi,yi,xj,yj,R):\n",
    "    D = (2*xj*R**2-2*xi)/(1-R**2)\n",
    "    E = (2*yj*R**2-2*yi)/(1-R**2)\n",
    "    F = (xi**2+yi**2-xj**2*R**2-yj**2*R**2)/(1-R**2)\n",
    "    return D,E,F"
   ]
  },
  {
   "cell_type": "code",
   "execution_count": 5,
   "metadata": {},
   "outputs": [],
   "source": [
    "#方法用于通过两个不同点的样本求得一个阿氏圆\n",
    "#输入为两个样本的数据和标签，分别标记为（x1,y1）(x2,y2)\n",
    "#输出为一组（D，E，F），每个用于标记一个圆，共一组，算不得的位置留0\n",
    "def samples2circle(x1,y1,x2,y2,eta):\n",
    "    circle = [0]*len(x1)\n",
    "    for col in range(len(x1)):    # 这两个样本中对于第col个AP\n",
    "        if x1[col] and x2[col]:    # 如果都有RSSI\n",
    "            R = DistRatio(x1[col],x2[col],eta)   # 计算距离比\n",
    "            if R != 1:  # R为1的时候求不出圆\n",
    "                xi,yi = y1[1],y1[2]        #读取坐标\n",
    "                xj,yj = y2[1],y2[2]\n",
    "                D,E,F = Apollonius(xi,yi,xj,yj,R)    #计算DEF\n",
    "                circle[col] = (R,D,E,F)\n",
    "    return circle"
   ]
  },
  {
   "cell_type": "code",
   "execution_count": 6,
   "metadata": {},
   "outputs": [],
   "source": [
    "#方法用于求出一个区域样本的所有阿氏圆\n",
    "#排列组合所有样本，如果是不同点的，求一组阿氏圆，按照ap列表对应到col\n",
    "#输入为area_x，area_y，为某一区域的所有样本\n",
    "#输出为一个列表，列表的元素为\"某两个样本对所有ap所在阿氏圆的解\",也是一个列表\n",
    "#有解的地方填入一组（d，e，f），无解的地方为0\n",
    "# def AreaCircles(area_x,area_y):\n",
    "#     circles = []\n",
    "#     for num in range(len(area_y)):      # 对所有样本\n",
    "#         for i in range(num,len(area_y)):   # 对比该样本之后的样本\n",
    "#             if area_y[num,1]==area_y[i,1] and area_y[num,2]==area_y[i,2]:\n",
    "#             # 如果是同一点的样本，跳过\n",
    "#                 continue\n",
    "#             circle = samples2circle(area_x[num],area_y[num],area_x[i],area_y[i])\n",
    "#             circles.append(circle)\n",
    "#     return circles\n",
    "\n",
    "\n",
    "\n",
    "# 此方法用于求出某个区域内，每个点的最大rssi\n",
    "#这些最大RSSI数据将整合为一个样本当作这个点的参考样本，用于求解阿氏圆\n",
    "#输入是整个区域的点集，area_x和area_y都是一个数组\n",
    "#x的形状是（64，469）即64个样本，每个样本对应469个AP\n",
    "#y的形状是（64，3）每个样本对应区域号，x，y坐标\n",
    "#输出是同样宽度的x，y\n",
    "#但长度64缩减为每个点一个样本，按区域应该在16个或10个\n",
    "def PointMax(area_x,area_y):\n",
    "    countx = Counter(area_y[:,1])\n",
    "    county = Counter(area_y[:,2])\n",
    "    # 上述用于计算出现的x，y的可能性\n",
    "    xlist = list(countx.keys())\n",
    "    ylist = list(county.keys())\n",
    "    # 读出x，y的可能性\n",
    "    temp_x = np.zeros(len(area_x[0]))\n",
    "    # 设计一个临时存放位置，他的长度为469\n",
    "    max_x = []\n",
    "    max_y = []\n",
    "    #最后输出的样本列表\n",
    "    for x in xlist:            # 对于每一个x和y\n",
    "        for y in ylist:\n",
    "            max_y.append([area_y[0,0],x,y])  # 必定计算一个样本出来，所以先把标签写入max_y\n",
    "            for i in range(len(area_y)):     # 遍历area_x样本集合\n",
    "                if area_y[i,1]==x and area_y[i,2]==y:  #如果坐标x，y和上述一致，记为i\n",
    "                    for k in range(len(area_x[1])):    #再考虑每一个AP\n",
    "                        if area_x[i,k]:                #如果样本i的第K个ap有值\n",
    "                            if not temp_x[k]:          #且temp记录为0\n",
    "                                temp_x[k] = area_x[i,k]  # 写入temp_x对应位置\n",
    "                            else: # 如果temp记录不为0\n",
    "                                temp_x[k]= max(temp_x[k],area_x[i,k])  # 取两者最大值\n",
    "            max_x.append(temp_x)\n",
    "            temp_x = np.zeros(len(area_x[0]))\n",
    " \n",
    "    return np.array(max_x),np.array(max_y)\n",
    "\n",
    "# 方法用于求出一个区域的阿氏圆\n",
    "#该方法与上面不同的是，不求解所有可能的组合情况，而是将每个点的样本整合起来\n",
    "#每个AP选择最高的RSSI\n",
    "def AreaCircles(area_x,area_y,eta):\n",
    "    max_x,max_y = PointMax(area_x,area_y)\n",
    "    circles = []\n",
    "    for num in range(len(max_y)):      # 对所有样本\n",
    "        for i in range(num,len(max_y)):   # 对比该样本之后的样本\n",
    "            if max_y[num,1]==max_y[i,1] and max_y[num,2]==max_y[i,2]:\n",
    "            # 如果是同一点的样本，跳过\n",
    "                continue\n",
    "            circle = samples2circle(max_x[num],max_y[num],max_x[i],max_y[i],eta)\n",
    "            circles.append(circle)\n",
    "    #**************************************************************************************修改代码 \n",
    "    circles = np.array(circles)\n",
    "    lenth=np.size(circles,0)  #计算 X 的行数\n",
    "    circles = np.delete(circles,np.s_[2:lenth-1],axis=0)\n",
    "    print(\"circles:\\n\",circles.shape)\n",
    "    circles = circles.tolist()\n",
    "    #**************************************************************************************修改代码\n",
    "    return circles\n",
    "                "
   ]
  },
  {
   "cell_type": "code",
   "execution_count": null,
   "metadata": {},
   "outputs": [],
   "source": []
  },
  {
   "cell_type": "code",
   "execution_count": null,
   "metadata": {},
   "outputs": [],
   "source": [
    "\n"
   ]
  },
  {
   "cell_type": "code",
   "execution_count": 7,
   "metadata": {},
   "outputs": [],
   "source": [
    "#用于求解最小化函数中权重部分的分母sum lgR\n",
    "#输入为一个区域的圆，典型范例是all_circles[1]\n",
    "#输出是该区域圆的sumlog，长度为469，当计算某区域内某虚拟AP的位置时\n",
    "#可以读取sumlog列表得到权重的分母\n",
    "# circles1 是区域1的圆\n",
    "def SumLog(circles):\n",
    "    circles1 = circles\n",
    "    Rs = []           # Rs用于存放所有AP的R，其元素为每个AP的R\n",
    "    R = []           # 每个AP的R暂时放在这，其形式所有非0R的列表\n",
    "    sum_logs = []\n",
    "    for col in range(np.shape(circles1)[1]):   # 循环列这么多次\n",
    "        for i in range(len(circles1)):\n",
    "            if circles1[i][col]:\n",
    "                R.append(circles1[i][col][0])  \n",
    "        Rs.append(R)       # 遍历所有行后放入Rs\n",
    "        R = []            # 记得暂存完毕后清空\n",
    "    for R in Rs:\n",
    "        if R:\n",
    "            sum_log = np.sum(np.log10(R))\n",
    "            sum_logs.append(sum_log)\n",
    "        else:\n",
    "            sum_logs.append(0)\n",
    "    return sum_logs"
   ]
  },
  {
   "cell_type": "code",
   "execution_count": 8,
   "metadata": {},
   "outputs": [],
   "source": [
    "#用于计算所有区域的AP圆\n",
    "#输入是按区域划分的计算数据集，两个字典，键是区域，值是（样本数，AP数）和（样本数，3）\n",
    "#输出是一个字典all_circles\n",
    "# all_circles是一个字典，键为区域，值为区域中的ap圆投票\n",
    "#如果该区域一共720组有效投票样本对，每对对所有469个ap投票，无法投票的记为0\n",
    "#能够投票的记为（R,D,E,F）\n",
    "def AllCircles(x_div_by_area,y_div_by_area,eta):\n",
    "    all_circles = {}\n",
    "    for area in x_div_by_area.keys():    # 对于每个区域\n",
    "        circles = AreaCircles(x_div_by_area[area],y_div_by_area[area],eta)\n",
    "        all_circles[area]=circles\n",
    "    return all_circles"
   ]
  },
  {
   "cell_type": "code",
   "execution_count": null,
   "metadata": {
    "scrolled": false
   },
   "outputs": [],
   "source": []
  },
  {
   "cell_type": "code",
   "execution_count": 9,
   "metadata": {},
   "outputs": [],
   "source": [
    "# 用于将某一区域的圆投票纪录按照AP排序\n",
    "#输入是一个区域的投票纪录，典型的，all_circles的一个键值，（720，469），有记录的为（RDEF）\n",
    "#输出为一个列表，长度为AP数量\n",
    "#每个元素是一个列表，该区域所有组合对于该AP的有效投票\n",
    "#如果完全没有投票记录的，计空\n",
    "#投票记录同先前一样是（RDEF）\n",
    "def ApsCircle(circles):\n",
    "    Apscircle = []   # 将所有AP圆按照AP顺序排列，每个元素是一个Apcircle\n",
    "    Apcircle = []    # 每一个AP在720组有效样本对中的投票集中在Apcircle\n",
    "    for col in range(len(circles[1])):\n",
    "        for i in range(len(circles)):\n",
    "            if circles[i][col]:\n",
    "                Apcircle.append(circles[i][col])\n",
    "        Apscircle.append(Apcircle)\n",
    "        Apcircle = []\n",
    "    return Apscircle"
   ]
  },
  {
   "cell_type": "code",
   "execution_count": null,
   "metadata": {},
   "outputs": [],
   "source": []
  },
  {
   "cell_type": "code",
   "execution_count": 10,
   "metadata": {},
   "outputs": [],
   "source": [
    "#需要最小化的加权二乘解\n",
    "#输入有待定变量xy，一个全局变量sumlogs，一组随i变化的变量args\n",
    "#xy是元组对，表示x，y两个变量\n",
    "#sumlogs通过相应函数得到\n",
    "#随i变化的args形式为n条列表，每个元素为R,D,E,F\n",
    "def fun(xy,sumlogs,args): #求最小值的目标函数，minimize中需要\n",
    "    x,y = xy\n",
    "    final = 0\n",
    "    for i in range(len(args)):\n",
    "        Ri,Di,Ei,Fi = args[i]\n",
    "        #wi = np.log10(Ri)/sumlogs\n",
    "        residual = np.sqrt((x+Di/2)**2+(y+Ei/2)**2)-0.5*np.sqrt(Di**2+Ei**2-4*Fi)\n",
    "        #final = final + wi*residual**2\n",
    "        final = final + residual**2\n",
    "    return final\n",
    "    "
   ]
  },
  {
   "cell_type": "code",
   "execution_count": null,
   "metadata": {},
   "outputs": [],
   "source": []
  },
  {
   "cell_type": "code",
   "execution_count": null,
   "metadata": {
    "scrolled": false
   },
   "outputs": [],
   "source": []
  },
  {
   "cell_type": "code",
   "execution_count": 11,
   "metadata": {},
   "outputs": [],
   "source": [
    "# 一个可视化测试函数\n",
    "#该函数用于绘制一组同属于一个ap的圆\n",
    "#输入是一个区域内一个AP的圆\n",
    "#典型地，是ApsCircle函数输出一项，ApsCircle的输出为一个区域的469个AP\n",
    "#本程序的输入应为ApsCircle[22]这种形式\n",
    "def cplot(apcircles):\n",
    "    i = 0\n",
    "    for circle in apcircles:\n",
    "        R,d,e,f = circle\n",
    "        a = -d/2\n",
    "        b = -e/2\n",
    "        r = 0.5*np.sqrt(d**2+e**2-4*f)\n",
    "        theta = np.arange(0, 2*np.pi, 0.01)\n",
    "        x = a + r * np.cos(theta)\n",
    "        y = b + r * np.sin(theta)\n",
    "        plt.plot(x, y)\n",
    "        i = i+1\n",
    "    plt.show()\n"
   ]
  },
  {
   "cell_type": "code",
   "execution_count": 12,
   "metadata": {},
   "outputs": [],
   "source": [
    "# 预先编写定位ap的框架\n",
    "#本方法需要实现定位ap位置\n",
    "#输入为一个样本集的测试部分，来自于函数DivisionP2\n",
    "#要从中析出每个区域的虚拟ap位置;另外还需指定一个eta值\n",
    "#输出是制作一个文件，用于标记每个区域每个虚拟ap的位置\n",
    "#同时返回字典，该字典键为区域，值为（AP序号数组，x坐标数组，y坐标数组）对应位置构成一个数据\n",
    "def ApLoc(setnum,train_x,train_y,eta):\n",
    "    with open(\"./Data/VAP_\"+str(eta)+\"_\"+setnum+\".csv\",'w',encoding='iso-8859-1',newline='') as out:\n",
    "        wt = csv.writer(out)\n",
    "        x_div_by_area = {}\n",
    "        y_div_by_area = {}\n",
    "        \n",
    "        x_div_by_area,y_div_by_area = DivByArea(train_x,train_y) #拆分计算集到每个区域\n",
    "        all_circles = AllCircles(x_div_by_area,y_div_by_area,eta) #计算每个区域的AP圆\n",
    "        VAPlist={}\n",
    "        for circles in all_circles.keys():  # 对于每个区域的circles\n",
    "            sumlogs = SumLog(all_circles[circles]) # 该区域每个ap的权重分母列表\n",
    "            apscircles = ApsCircle(all_circles[circles])\n",
    "            apnum = []\n",
    "            coodix = []\n",
    "            coodiy = []\n",
    "            for ap in range(len(apscircles)):\n",
    "                if apscircles[ap]:\n",
    "                    # fun :求最小值的目标函数 （10，10）:最小值的初始猜测值 （sumlogs[ap],apscircles[ap]）:给fun中的变量赋值 method:求极值的方法\n",
    "                    result = minimize(fun,(10,10),(sumlogs[ap],apscircles[ap]),method='Nelder-Mead') #求极小值\n",
    "#                     print(\"result:\\n\",result)\n",
    "                    if result.success:\n",
    "                        apnum.append(ap)\n",
    "                        coodix.append(result.x[0])\n",
    "                        coodiy.append(result.x[1])\n",
    "#                         print(\"区域:\",circles,\"AP:\",ap,\"坐标:\",result.x)\n",
    "#                     else:\n",
    "#                         print(\"区域:\",circles,\"AP:\",ap,result.message)\n",
    "#             print('--------------------------------------------')\n",
    "#             print(\"区域:\",circles,\"AP数量:\",len(apnum))\n",
    "            colors = np.random.rand(len(coodix))\n",
    "#             plt.scatter(coodix,coodiy，s=0.1,c=colors) #散点图\n",
    "            plt.scatter(coodix, coodiy, s=2, c=colors, alpha=1) #绘制AP的虚拟位置   ****\n",
    "#             for i in range(len(apnum)):\n",
    "#                 plt.annotate(apnum[i],xy = (coodix[i],coodiy[i])) # 标注文字\n",
    "            plt.show()\n",
    "#             plt.cla()\n",
    "            VAPlist[circles] = apnum,coodix,coodiy\n",
    "            print(\"已记录区域\",len(VAPlist))\n",
    "        for i in range(1,33):\n",
    "            for j in range(3):\n",
    "                wt.writerow(VAPlist[i][j])\n",
    "#         print(\"VAPlist:\\n\",VAPlist)\n",
    "        return VAPlist"
   ]
  },
  {
   "cell_type": "code",
   "execution_count": null,
   "metadata": {},
   "outputs": [],
   "source": []
  },
  {
   "cell_type": "code",
   "execution_count": 13,
   "metadata": {},
   "outputs": [],
   "source": [
    "# 下面是从VAP定位样本点的部分"
   ]
  },
  {
   "cell_type": "code",
   "execution_count": null,
   "metadata": {},
   "outputs": [],
   "source": []
  },
  {
   "cell_type": "code",
   "execution_count": 18,
   "metadata": {},
   "outputs": [],
   "source": [
    "#记录，DivisionP2分割的数据集1，测试样本有362个，x长度为469，y长度为3\n",
    "#训练样本有1447个\n",
    "#输入两个位置坐标求解两点距离的函数\n",
    "#输入为两个点的xy，\n",
    "def Distan(x1,y1,x2,y2):\n",
    "    return np.sqrt((x1-x2)**2+(y1-y2)**2)\n",
    "\n",
    "\n",
    "\n",
    "\n",
    "#一个用于求解某个ap标准距离（1m）时的AP信号强度\n",
    "#输入为某位置信号强度，eta，和该位置到AP的距离dki\n",
    "#输出为一个信号强度\n",
    "#！！！貌似需要一个OAF！！！\n",
    "def RSS_1m(rssk,eta,dk):\n",
    "    rss_1m = rssk + 10*eta*np.log10(dk)\n",
    "    return rss_1m\n",
    "\n",
    "\n",
    "# 用于求解样本点到两个vap的距离比的函数\n",
    "#输入有两个vap到该点的rssi,以及这两个vap在1m处的标准强度\n",
    "#输入为比值R\n",
    "def VapRatio(rss1,rss2,rss_1m1,rss_1m2,eta):\n",
    "    R = 10**((rss2-rss1+rss_1m1-rss_1m2)/(10*eta))\n",
    "    return R\n",
    "\n",
    "\n",
    "# 该函数用于将VAP坐标和RP信息组合生成该VAP的虚拟rssi（1m）\n",
    "# 输入有一个样本rp，及其标签，所在区域，vaploc字典整体，eta\n",
    "# 返回是一个元组，内容是两个数组，前者是ap序号，后者是AP的rssi_1m\n",
    "def RP2rss0(rp,rplabel,area,vaploc,eta):\n",
    "    if rplabel[0] == area:\n",
    "        areavap = vaploc[rplabel[0]]\n",
    "        apnum = areavap[0]    # 记录ap序号\n",
    "        coodix = areavap[1]    #记录序号对应的横坐标\n",
    "        coodiy = areavap[2]     #记录序号对应的纵坐标\n",
    "        apnum_dk0 = []\n",
    "        rssi_dk0 = []\n",
    "        for ap in range(len(rp)):     # 对于该样本中每一个ap\n",
    "            if rp[ap]:             # 如果该样本此位置有值\n",
    "                rss_rp = rp[ap]      # 读出该rss值\n",
    "                x_rp = rplabel[1]    #读出该值对应的x坐标\n",
    "                y_rp = rplabel[2]    #y坐标\n",
    "                if ap in apnum:    # 如果该AP在已求出的vap列表中有\n",
    "                    index_ap = apnum.index(ap)    # 找到该ap的索引\n",
    "                    x_ap = coodix[index_ap]      # 按索引找到坐标\n",
    "                    y_ap = coodiy[index_ap]\n",
    "                    distance = Distan(x_rp,y_rp,x_ap,y_ap)  # 求vap到rp的距离\n",
    "                    rss_dk0 = RSS_1m(rss_rp,eta,distance)\n",
    "                    apnum_dk0.append(ap)\n",
    "                    rssi_dk0.append(rss_dk0)\n",
    "        return (apnum_dk0,rssi_dk0)\n",
    "    else:\n",
    "        return [],[]\n",
    "\n",
    "\n",
    "# 该函数用于求rss_1m\n",
    "# 输入某个区域内的样本x，y，以及area，eta\n",
    "# 输出为该区域的所有有反应的vap的rss1m\n",
    "# 计算时，使用了每个样本计算的rss1,\n",
    "def area_rss_1m(x_area,y_area,area,vaploc,eta):\n",
    "    temp = [0] * np.shape(x_area)[1]     \n",
    "    for rpnum in range(len(y_area)):\n",
    "        rp = x_area[rpnum]\n",
    "        rplabel = y_area[rpnum]\n",
    "        apnum_dk0,rssi_dk0 = RP2rss0(rp,rplabel,area,vaploc,eta)\n",
    "        for index,ap in enumerate(apnum_dk0):\n",
    "            if not temp[ap]:     # 如果temp[ap]为0\n",
    "                temp[ap] = rssi_dk0[index]\n",
    "            else: # 如果temp[ap]有值\n",
    "                temp[ap] = max(temp[ap],rssi_dk0[index])\n",
    "    return temp\n",
    "\n",
    "\n",
    "## 一个用于求出所有标准距离时，虚拟ap的信号强度的函数\n",
    "# 该函数输入为所有的样本,vap位置，eta\n",
    "# 该函数输出一个字典，键为区域\n",
    "# 值为该区域所有样本中能够得到的ap的标准距离强度，有的填最大值，没有的为0，长度为469.\n",
    "def rss_1m_all(x_div_by_area,y_div_by_area,vaploc,eta):\n",
    "    rss_1m = {}\n",
    "    for area in x_div_by_area.keys():\n",
    "        x_area = x_div_by_area[area]\n",
    "        y_area = y_div_by_area[area]\n",
    "        temp = area_rss_1m(x_area,y_area,area,vaploc,eta)\n",
    "        rss_1m[area] = temp\n",
    "    return rss_1m\n",
    "\n",
    "\n",
    "#下面这个函数sampleloc用于定位sample，使用vap的位置，因此\n",
    "#输入为样本数据（1，469）、样本所在区域（该条件应该在phase1得到）\n",
    "#输入还有vap位置列表，这个列表是所有区域中所有ap的推测位置\n",
    "#输入还有预先求到的每个区域内的标准距离ap信号强度，由函数rss_1m_all得到\n",
    "def SampleLoc(sample_x,area,vaploc,rss_1m,eta):\n",
    "    areavap = vaploc[area] # 抽取area区域的vaploc\n",
    "    area_rss0 = rss_1m[area]\n",
    "    apnum = areavap[0]    # 记录ap序号\n",
    "    coodix = areavap[1]    #记录序号对应的横坐标\n",
    "    coodiy = areavap[2]     #记录序号对应的纵坐标\n",
    "    circles = []\n",
    "    for ap in range(len(sample_x)):  # 对于所有ap\n",
    "        if sample_x[ap]:    # 如果该ap位置有读数\n",
    "            rss0_ap = area_rss0[ap]   # 先取出这个ap的标准距离信号强度\n",
    "            if rss0_ap:    # 如果记录不为空\n",
    "                for restap in range(ap,len(sample_x)):  #考虑余下的所有ap\n",
    "                    if sample_x[restap]:  # 如果剩下的ap中有非零读数\n",
    "                        rss0_restap = area_rss0[restap]   # 取出该ap的标准距离信号强度\n",
    "                        if rss0_restap:    # 如果该ap的rss0仍旧不为空\n",
    "                            if ap in apnum and restap in apnum:  #如果ap和restap都在apnum里，则该区域对该两个vap也有位置估计，可绘制定位圆\n",
    "                                rss1 = sample_x[ap]       # 取出rss1\n",
    "                                rss2 = sample_x[restap]    #取出rss2\n",
    "                                index1 = apnum.index(ap)   # 找到 ap和restap在vaploc中的索引\n",
    "                                index2 = apnum.index(restap)\n",
    "                                x1 = coodix[index1]     # 按索引取出坐标\n",
    "                                y1 = coodiy[index1]\n",
    "                                x2 = coodix[index2]\n",
    "                                y2 = coodiy[index2]\n",
    "                                R = VapRatio(rss1, rss2, rss0_ap, rss0_restap, eta)    # 计算一个vap距离测试样本的距离比\n",
    "                                if R!=1:\n",
    "                                    D,E,F = Apollonius(x1,y1,x2,y2,R)\n",
    "                                    if D**2+E**2-4*F>0:\n",
    "                                        circles.append((R,D,E,F))\n",
    "    # for 完毕，求出所有能够定位该样本的圆\n",
    "\n",
    "    #**************************************************************************************修改代码\n",
    "    circles = np.array(circles)\n",
    "    lenth=np.size(circles,0)  #计算 X 的行数\n",
    "    circles = np.delete(circles,np.s_[2:lenth-1],axis=0)\n",
    "    print(\"circles:\\n\",circles.shape)\n",
    "    circles = circles.tolist()\n",
    "    #**************************************************************************************修改代码\n",
    "    cplot(circles)\n",
    "    \n",
    "    Rs = []\n",
    "    for i in range(len(circles)):\n",
    "        Rs.append(circles[i][0])\n",
    "    sumlog = np.sum(np.log10(Rs))\n",
    "    result = minimize(fun,(10,10),(sumlog,circles),method='Nelder-Mead')\n",
    "    if result.success:\n",
    "        return result.x\n",
    "    else:\n",
    "        print(result.message)\n",
    "        return (3,3)\n",
    "\n",
    "# 评估定位精度\n",
    "#输入为一个样本的x，y，所属区域，全部vap位置的vaploc，通过vaploc和训练样本求导的rss_1m，以及超参数eta\n",
    "def evaluate(sample_x,sample_y,area,vaploc,rss_1m,eta): #通过估计位置的距离与真实位置的距离的欧氏距离作为两者的误差\n",
    "    x1 = sample_y[1]\n",
    "    y1 = sample_y[1]\n",
    "    x2,y2 = SampleLoc(sample_x,area,vaploc,rss_1m,eta)\n",
    "    d = Distan(x1,y1,x2,y2)\n",
    "    dtrue = d*0.6\n",
    "    print(d,dtrue)\n",
    "    return dtrue"
   ]
  },
  {
   "cell_type": "code",
   "execution_count": null,
   "metadata": {},
   "outputs": [],
   "source": []
  },
  {
   "cell_type": "code",
   "execution_count": 15,
   "metadata": {
    "scrolled": false
   },
   "outputs": [
    {
     "name": "stderr",
     "output_type": "stream",
     "text": [
      "<ipython-input-6-25bbcab05ef0>:68: VisibleDeprecationWarning: Creating an ndarray from ragged nested sequences (which is a list-or-tuple of lists-or-tuples-or ndarrays with different lengths or shapes) is deprecated. If you meant to do this, you must specify 'dtype=object' when creating the ndarray\n",
      "  circles = np.array(circles)\n"
     ]
    },
    {
     "name": "stdout",
     "output_type": "stream",
     "text": [
      "circles:\n",
      " (3, 469)\n",
      "circles:\n",
      " (3, 469)\n",
      "circles:\n",
      " (3, 469)\n",
      "circles:\n",
      " (3, 469)\n",
      "circles:\n",
      " (3, 469)\n",
      "circles:\n",
      " (3, 469)\n",
      "circles:\n",
      " (3, 469)\n",
      "circles:\n",
      " (3, 469)\n",
      "circles:\n",
      " (3, 469)\n",
      "circles:\n",
      " (3, 469)\n",
      "circles:\n",
      " (3, 469)\n",
      "circles:\n",
      " (3, 469)\n",
      "circles:\n",
      " (3, 469)\n",
      "circles:\n",
      " (3, 469)\n",
      "circles:\n",
      " (3, 469)\n",
      "circles:\n",
      " (3, 469)\n",
      "circles:\n",
      " (3, 469)\n",
      "circles:\n",
      " (3, 469)\n",
      "circles:\n",
      " (3, 469)\n",
      "circles:\n",
      " (3, 469)\n",
      "circles:\n",
      " (3, 469)\n",
      "circles:\n",
      " (3, 469)\n",
      "circles:\n",
      " (3, 469)\n",
      "circles:\n",
      " (3, 469)\n",
      "circles:\n",
      " (3, 469)\n",
      "circles:\n",
      " (3, 469)\n",
      "circles:\n",
      " (3, 469)\n",
      "circles:\n",
      " (3, 469)\n",
      "circles:\n",
      " (3, 469)\n",
      "circles:\n",
      " (3, 469)\n",
      "circles:\n",
      " (3, 469)\n",
      "circles:\n",
      " (3, 469)\n"
     ]
    },
    {
     "name": "stderr",
     "output_type": "stream",
     "text": [
      "D:\\Download\\packet\\work\\_Aconda\\_install\\envs\\tensorflow_gpu\\lib\\site-packages\\numpy\\core\\_asarray.py:83: VisibleDeprecationWarning: Creating an ndarray from ragged nested sequences (which is a list-or-tuple of lists-or-tuples-or ndarrays with different lengths or shapes) is deprecated. If you meant to do this, you must specify 'dtype=object' when creating the ndarray\n",
      "  return array(a, dtype, copy=False, order=order)\n"
     ]
    },
    {
     "data": {
      "image/png": "[encoded data removed]",
      "text/plain": [
       "<Figure size 432x288 with 1 Axes>"
      ]
     },
     "metadata": {
      "needs_background": "light"
     },
     "output_type": "display_data"
    },
    {
     "name": "stdout",
     "output_type": "stream",
     "text": [
      "已记录区域 1\n"
     ]
    },
    {
     "data": {
      "image/png": "[encoded data removed]",
      "text/plain": [
       "<Figure size 432x288 with 1 Axes>"
      ]
     },
     "metadata": {
      "needs_background": "light"
     },
     "output_type": "display_data"
    },
    {
     "name": "stdout",
     "output_type": "stream",
     "text": [
      "已记录区域 2\n"
     ]
    },
    {
     "data": {
      "image/png": "[encoded data removed]",
      "text/plain": [
       "<Figure size 432x288 with 1 Axes>"
      ]
     },
     "metadata": {
      "needs_background": "light"
     },
     "output_type": "display_data"
    },
    {
     "name": "stdout",
     "output_type": "stream",
     "text": [
      "已记录区域 3\n"
     ]
    },
    {
     "data": {
      "image/png": "[encoded data removed]",
      "text/plain": [
       "<Figure size 432x288 with 1 Axes>"
      ]
     },
     "metadata": {
      "needs_background": "light"
     },
     "output_type": "display_data"
    },
    {
     "name": "stdout",
     "output_type": "stream",
     "text": [
      "已记录区域 4\n"
     ]
    },
    {
     "data": {
      "image/png": "[encoded data removed]",
      "text/plain": [
       "<Figure size 432x288 with 1 Axes>"
      ]
     },
     "metadata": {
      "needs_background": "light"
     },
     "output_type": "display_data"
    },
    {
     "name": "stdout",
     "output_type": "stream",
     "text": [
      "已记录区域 5\n"
     ]
    },
    {
     "data": {
      "image/png": "[encoded data removed]",
      "text/plain": [
       "<Figure size 432x288 with 1 Axes>"
      ]
     },
     "metadata": {
      "needs_background": "light"
     },
     "output_type": "display_data"
    },
    {
     "name": "stdout",
     "output_type": "stream",
     "text": [
      "已记录区域 6\n"
     ]
    },
    {
     "data": {
      "image/png": "[encoded data removed]",
      "text/plain": [
       "<Figure size 432x288 with 1 Axes>"
      ]
     },
     "metadata": {
      "needs_background": "light"
     },
     "output_type": "display_data"
    },
    {
     "name": "stdout",
     "output_type": "stream",
     "text": [
      "已记录区域 7\n"
     ]
    },
    {
     "data": {
      "image/png": "[encoded data removed]",
      "text/plain": [
       "<Figure size 432x288 with 1 Axes>"
      ]
     },
     "metadata": {
      "needs_background": "light"
     },
     "output_type": "display_data"
    },
    {
     "name": "stdout",
     "output_type": "stream",
     "text": [
      "已记录区域 8\n"
     ]
    },
    {
     "data": {
      "image/png": "[encoded data removed]",
      "text/plain": [
       "<Figure size 432x288 with 1 Axes>"
      ]
     },
     "metadata": {
      "needs_background": "light"
     },
     "output_type": "display_data"
    },
    {
     "name": "stdout",
     "output_type": "stream",
     "text": [
      "已记录区域 9\n"
     ]
    },
    {
     "data": {
      "image/png": "[encoded data removed]",
      "text/plain": [
       "<Figure size 432x288 with 1 Axes>"
      ]
     },
     "metadata": {
      "needs_background": "light"
     },
     "output_type": "display_data"
    },
    {
     "name": "stdout",
     "output_type": "stream",
     "text": [
      "已记录区域 10\n"
     ]
    },
    {
     "data": {
      "image/png": "[encoded data removed]",
      "text/plain": [
       "<Figure size 432x288 with 1 Axes>"
      ]
     },
     "metadata": {
      "needs_background": "light"
     },
     "output_type": "display_data"
    },
    {
     "name": "stdout",
     "output_type": "stream",
     "text": [
      "已记录区域 11\n"
     ]
    },
    {
     "data": {
      "image/png": "[encoded data removed]",
      "text/plain": [
       "<Figure size 432x288 with 1 Axes>"
      ]
     },
     "metadata": {
      "needs_background": "light"
     },
     "output_type": "display_data"
    },
    {
     "name": "stdout",
     "output_type": "stream",
     "text": [
      "已记录区域 12\n"
     ]
    },
    {
     "data": {
      "image/png": "[encoded data removed]",
      "text/plain": [
       "<Figure size 432x288 with 1 Axes>"
      ]
     },
     "metadata": {
      "needs_background": "light"
     },
     "output_type": "display_data"
    },
    {
     "name": "stdout",
     "output_type": "stream",
     "text": [
      "已记录区域 13\n"
     ]
    },
    {
     "data": {
      "image/png": "[encoded data removed]",
      "text/plain": [
       "<Figure size 432x288 with 1 Axes>"
      ]
     },
     "metadata": {
      "needs_background": "light"
     },
     "output_type": "display_data"
    },
    {
     "name": "stdout",
     "output_type": "stream",
     "text": [
      "已记录区域 14\n"
     ]
    },
    {
     "data": {
      "image/png": "[encoded data removed]",
      "text/plain": [
       "<Figure size 432x288 with 1 Axes>"
      ]
     },
     "metadata": {
      "needs_background": "light"
     },
     "output_type": "display_data"
    },
    {
     "name": "stdout",
     "output_type": "stream",
     "text": [
      "已记录区域 15\n"
     ]
    },
    {
     "data": {
      "image/png": "[encoded data removed]",
      "text/plain": [
       "<Figure size 432x288 with 1 Axes>"
      ]
     },
     "metadata": {
      "needs_background": "light"
     },
     "output_type": "display_data"
    },
    {
     "name": "stdout",
     "output_type": "stream",
     "text": [
      "已记录区域 16\n"
     ]
    },
    {
     "data": {
      "image/png": "[encoded data removed]",
      "text/plain": [
       "<Figure size 432x288 with 1 Axes>"
      ]
     },
     "metadata": {
      "needs_background": "light"
     },
     "output_type": "display_data"
    },
    {
     "name": "stdout",
     "output_type": "stream",
     "text": [
      "已记录区域 17\n"
     ]
    },
    {
     "data": {
      "image/png": "[encoded data removed]",
      "text/plain": [
       "<Figure size 432x288 with 1 Axes>"
      ]
     },
     "metadata": {
      "needs_background": "light"
     },
     "output_type": "display_data"
    },
    {
     "name": "stdout",
     "output_type": "stream",
     "text": [
      "已记录区域 18\n"
     ]
    },
    {
     "data": {
      "image/png": "[encoded data removed]",
      "text/plain": [
       "<Figure size 432x288 with 1 Axes>"
      ]
     },
     "metadata": {
      "needs_background": "light"
     },
     "output_type": "display_data"
    },
    {
     "name": "stdout",
     "output_type": "stream",
     "text": [
      "已记录区域 19\n"
     ]
    },
    {
     "data": {
      "image/png": "[encoded data removed]",
      "text/plain": [
       "<Figure size 432x288 with 1 Axes>"
      ]
     },
     "metadata": {
      "needs_background": "light"
     },
     "output_type": "display_data"
    },
    {
     "name": "stdout",
     "output_type": "stream",
     "text": [
      "已记录区域 20\n"
     ]
    },
    {
     "data": {
      "image/png": "[encoded data removed]",
      "text/plain": [
       "<Figure size 432x288 with 1 Axes>"
      ]
     },
     "metadata": {
      "needs_background": "light"
     },
     "output_type": "display_data"
    },
    {
     "name": "stdout",
     "output_type": "stream",
     "text": [
      "已记录区域 21\n"
     ]
    },
    {
     "data": {
      "image/png": "[encoded data removed]",
      "text/plain": [
       "<Figure size 432x288 with 1 Axes>"
      ]
     },
     "metadata": {
      "needs_background": "light"
     },
     "output_type": "display_data"
    },
    {
     "name": "stdout",
     "output_type": "stream",
     "text": [
      "已记录区域 22\n"
     ]
    },
    {
     "data": {
      "image/png": "[encoded data removed]",
      "text/plain": [
       "<Figure size 432x288 with 1 Axes>"
      ]
     },
     "metadata": {
      "needs_background": "light"
     },
     "output_type": "display_data"
    },
    {
     "name": "stdout",
     "output_type": "stream",
     "text": [
      "已记录区域 23\n"
     ]
    },
    {
     "data": {
      "image/png": "[encoded data removed]",
      "text/plain": [
       "<Figure size 432x288 with 1 Axes>"
      ]
     },
     "metadata": {
      "needs_background": "light"
     },
     "output_type": "display_data"
    },
    {
     "name": "stdout",
     "output_type": "stream",
     "text": [
      "已记录区域 24\n"
     ]
    },
    {
     "data": {
      "image/png": "[encoded data removed]",
      "text/plain": [
       "<Figure size 432x288 with 1 Axes>"
      ]
     },
     "metadata": {
      "needs_background": "light"
     },
     "output_type": "display_data"
    },
    {
     "name": "stdout",
     "output_type": "stream",
     "text": [
      "已记录区域 25\n"
     ]
    },
    {
     "data": {
      "image/png": "[encoded data removed]",
      "text/plain": [
       "<Figure size 432x288 with 1 Axes>"
      ]
     },
     "metadata": {
      "needs_background": "light"
     },
     "output_type": "display_data"
    },
    {
     "name": "stdout",
     "output_type": "stream",
     "text": [
      "已记录区域 26\n"
     ]
    },
    {
     "data": {
      "image/png": "[encoded data removed]",
      "text/plain": [
       "<Figure size 432x288 with 1 Axes>"
      ]
     },
     "metadata": {
      "needs_background": "light"
     },
     "output_type": "display_data"
    },
    {
     "name": "stdout",
     "output_type": "stream",
     "text": [
      "已记录区域 27\n"
     ]
    },
    {
     "data": {
      "image/png": "[encoded data removed]",
      "text/plain": [
       "<Figure size 432x288 with 1 Axes>"
      ]
     },
     "metadata": {
      "needs_background": "light"
     },
     "output_type": "display_data"
    },
    {
     "name": "stdout",
     "output_type": "stream",
     "text": [
      "已记录区域 28\n"
     ]
    },
    {
     "data": {
      "image/png": "[encoded data removed]",
      "text/plain": [
       "<Figure size 432x288 with 1 Axes>"
      ]
     },
     "metadata": {
      "needs_background": "light"
     },
     "output_type": "display_data"
    },
    {
     "name": "stdout",
     "output_type": "stream",
     "text": [
      "已记录区域 29\n"
     ]
    },
    {
     "data": {
      "image/png": "[encoded data removed]",
      "text/plain": [
       "<Figure size 432x288 with 1 Axes>"
      ]
     },
     "metadata": {
      "needs_background": "light"
     },
     "output_type": "display_data"
    },
    {
     "name": "stdout",
     "output_type": "stream",
     "text": [
      "已记录区域 30\n"
     ]
    },
    {
     "data": {
      "image/png": "[encoded data removed]",
      "text/plain": [
       "<Figure size 432x288 with 1 Axes>"
      ]
     },
     "metadata": {
      "needs_background": "light"
     },
     "output_type": "display_data"
    },
    {
     "name": "stdout",
     "output_type": "stream",
     "text": [
      "已记录区域 31\n"
     ]
    },
    {
     "data": {
      "image/png": "[encoded data removed]",
      "text/plain": [
       "<Figure size 432x288 with 1 Axes>"
      ]
     },
     "metadata": {
      "needs_background": "light"
     },
     "output_type": "display_data"
    },
    {
     "name": "stdout",
     "output_type": "stream",
     "text": [
      "已记录区域 32\n"
     ]
    }
   ],
   "source": [
    "if __name__ == '__main__':\n",
    "\n",
    "#     for eta in np.arange(1.6,3.2,0.01):\n",
    "        eta = 2.24 #最优环境因子 eta = 2.24\n",
    "        eta = round(eta,2) #保留2位\n",
    "        test_y,test_x = Dataset(\"Test_1.csv\")\n",
    "        train_y,train_x = Dataset(\"Train_1.csv\")\n",
    "        vaploc = ApLoc(\"1\",train_x,train_y,eta) #求每个区域虚拟AP的位置\n",
    "        x_area,y_area = DivByArea(train_x,train_y) #按区域进行划分\n",
    "        rss_1m = rss_1m_all(x_area,y_area,vaploc,eta) #求出所有标准距离的虚拟AP的信号强度\n",
    "        \n"
   ]
  },
  {
   "cell_type": "code",
   "execution_count": 16,
   "metadata": {},
   "outputs": [],
   "source": [
    "# eta 的选择\n",
    "# #         output1 = open('./Data/vaploc_0_'+str(eta)+'.pkl', 'wb') #目标文件\n",
    "# #         output2 = open('./Data/rss_1m_0_'+str(eta)+'.pkl', 'wb')\n",
    "#         output1 = open('./Data/vaploc_1_'+str(eta)+'.pkl', 'wb') #目标文件\n",
    "#         output2 = open('./Data/rss_1m_1_'+str(eta)+'.pkl', 'wb')\n",
    "#         pickle.dump(vaploc, output1) #将虚拟AP的位置序列化到指定文件中\n",
    "#         pickle.dump(rss_1m, output2) #将标准距离的虚拟AP强度序列化到指定文件中（ASCII）\n",
    "        \n",
    "        \n",
    "# #         pkl_file1 = open('./Data/vaploc_0_'+str(eta)+'.pkl', 'rb')\n",
    "# #         pkl_file2 = open('./Data/rss_1m_0_'+str(eta)+'.pkl', 'rb')\n",
    "#         pkl_file1 = open('./Data/vaploc_1_'+str(eta)+'.pkl', 'rb')\n",
    "#         pkl_file2 = open('./Data/rss_1m_1_'+str(eta)+'.pkl', 'rb')\n",
    "# #         vaploc_ = pickle.load(pkl_file1) #反序列化，将文件中的数据解析为一个Pyhton对象\n",
    "# #         rss_1m_ = pickle.load(pkl_file2)\n",
    "\n",
    "        \n",
    "#         dtrues = [] \n",
    "#         for i in range(len(test_x)):\n",
    "#             sample_x = test_x[i]\n",
    "#             sample_y = test_y[i]\n",
    "#             area = sample_y[0]\n",
    "#             print(\"样本\",i,\"of\",len(test_x))\n",
    "#             dtrue = evaluate(sample_x,sample_y,area,vaploc_,rss_1m_,eta)\n",
    "#             dtrues.append(dtrue)\n",
    "\n",
    "#         sum_d = np.sum(dtrues)\n",
    "\n",
    "#         value = str(eta)+\" \"+str(sum_d)+ '\\n'\n",
    "#         with open('./Data/eta.txt','a') as f:\n",
    "#             f.write(value)\n",
    "            \n",
    "# import matplotlib.pyplot as plt\n",
    "# from scipy.signal import savgol_filter\n",
    "# with  open(\"./Data/eta.txt\",\"r\") as f:\n",
    "#     lines = f.readlines()\n",
    "#     etas = []\n",
    "#     losses = []\n",
    "#     for line in lines:\n",
    "#         line.strip('\\n')\n",
    "#         print(line.strip)\n",
    "#         eta,loss = line.split(' ')\n",
    "#         eta = float(eta)\n",
    "#         loss = float(loss)\n",
    "#         etas.append(eta)\n",
    "#         losses.append(loss)\n",
    "#     print(etas[losses.index(min(losses))])\n",
    "#     filtered = savgol_filter(losses,17,3)\n",
    "#     plt.title(\"Error affected by Eta\") \n",
    "#     plt.xlabel(\"Eta\") \n",
    "#     plt.ylabel(\"Sum of errors of all test samples\") \n",
    "#     plt.plot(etas,losses,label=\"original\")\n",
    "#     plt.plot(etas,filtered,label=\"filtered\")\n",
    "#     plt.legend()\n",
    "#     plt.savefig(\"./eta_select.png\",dpi=120)\n",
    "#     plt.show()"
   ]
  },
  {
   "cell_type": "code",
   "execution_count": 17,
   "metadata": {
    "scrolled": true
   },
   "outputs": [],
   "source": [
    "# # 绘制均方误差图\n",
    "# #绘制MSE\n",
    "       \n",
    "# dtrues = [] \n",
    "# for i in range(len(test_x)):\n",
    "#     sample_x = test_x[i]\n",
    "#     sample_y = test_y[i]\n",
    "#     area = sample_y[0]\n",
    "#     print(\"样本\",i,\"of\",len(test_x))\n",
    "#     dtrue = evaluate(sample_x,sample_y,area,vaploc_,rss_1m_,eta)\n",
    "#     dtrues.append(dtrue)\n",
    "# sum_d = np.sum(dtrues)\n",
    "# print(sum_d)"
   ]
  },
  {
   "cell_type": "code",
   "execution_count": null,
   "metadata": {},
   "outputs": [],
   "source": []
  },
  {
   "cell_type": "code",
   "execution_count": null,
   "metadata": {},
   "outputs": [],
   "source": []
  },
  {
   "cell_type": "code",
   "execution_count": null,
   "metadata": {},
   "outputs": [],
   "source": []
  }
 ],
 "metadata": {
  "kernelspec": {
   "display_name": "Python 3",
   "language": "python",
   "name": "python3"
  },
  "language_info": {
   "codemirror_mode": {
    "name": "ipython",
    "version": 3
   },
   "file_extension": ".py",
   "mimetype": "text/x-python",
   "name": "python",
   "nbconvert_exporter": "python",
   "pygments_lexer": "ipython3",
   "version": "3.8.8"
  }
 },
 "nbformat": 4,
 "nbformat_minor": 2
}
